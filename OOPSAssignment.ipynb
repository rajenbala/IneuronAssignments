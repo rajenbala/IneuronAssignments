{
 "cells": [
  {
   "cell_type": "markdown",
   "metadata": {},
   "source": [
    "1. Write a Python Program(with class concepts) to find the area of the triangle using the below formula.\n",
    "area = (s*(s-a)*(s-b)*(s-c)) ** 0.5\n",
    "Function to take the length of the sides of triangle from user should be defined in the parent class and function to calculate the area should be defined in subclass."
   ]
  },
  {
   "cell_type": "code",
   "execution_count": 91,
   "metadata": {},
   "outputs": [],
   "source": [
    "class Triangle:\n",
    "    \n",
    "    def __init__(self):\n",
    "        data=input(\"Please confirm whether you have values of all three side by typing Y or y: \")\n",
    "        if(data=='Y' or data=='y'):\n",
    "            a=int(input(\"Enter value of side 1: \"))\n",
    "            b=int(input(\"Enter value of side 2: \"))\n",
    "            c=int(input(\"Enter value of side 3: \"))\n",
    "            s=int(input(\"Enter S: \"))\n",
    "            self.a=a\n",
    "            self.b=b\n",
    "            self.c=c\n",
    "            self.s=s\n",
    "   "
   ]
  },
  {
   "cell_type": "code",
   "execution_count": 92,
   "metadata": {},
   "outputs": [],
   "source": [
    "class Area(Triangle):\n",
    "    \n",
    "    def __init__(self):\n",
    "        Traingle.__init__(self)\n",
    "    \n",
    "    def calculateArea(self):\n",
    "        return (self.s*(self.s-self.a)*(self.s-self.b)*(self.s-self.c))*0.5"
   ]
  },
  {
   "cell_type": "code",
   "execution_count": 93,
   "metadata": {},
   "outputs": [
    {
     "name": "stdout",
     "output_type": "stream",
     "text": [
      "Please confirm whether you have values of all three side by typing Y or y: y\n",
      "Enter value of side 1: 9\n",
      "Enter value of side 2: 1\n",
      "Enter value of side 3: 5\n",
      "Enter S: 12\n"
     ]
    },
    {
     "data": {
      "text/plain": [
       "1386.0"
      ]
     },
     "execution_count": 93,
     "metadata": {},
     "output_type": "execute_result"
    }
   ],
   "source": [
    "test=Area()\n",
    "test.calculateArea()"
   ]
  },
  {
   "cell_type": "markdown",
   "metadata": {},
   "source": [
    "2. Write a function filter_long_words() that takes a list of words and an integer n and returns the list of words that are longer than n."
   ]
  },
  {
   "cell_type": "code",
   "execution_count": 118,
   "metadata": {},
   "outputs": [],
   "source": [
    "class FilterWords:\n",
    "    def __init__(self,wordList,minLength):\n",
    "        self.wordList=wordList\n",
    "        self.minLength=minLength\n",
    "        \n",
    "    def filterWord(self):\n",
    "        return [words for words in self.wordList if len(words)>self.minLength]\n",
    "    "
   ]
  },
  {
   "cell_type": "code",
   "execution_count": 119,
   "metadata": {},
   "outputs": [
    {
     "data": {
      "text/plain": [
       "['balaji', 'arthy', 'vetri']"
      ]
     },
     "execution_count": 119,
     "metadata": {},
     "output_type": "execute_result"
    }
   ],
   "source": [
    "test=[\"balaji\",\"arthy\",\"vetri\",\"tes\",\"ex\"]\n",
    "val=FilterWords(test,4)\n",
    "val.filterWord()"
   ]
  },
  {
   "cell_type": "markdown",
   "metadata": {},
   "source": [
    "3.Write a Python program using function concept that maps list of words into a list of integers representing the lengths of the corresponding words.\n",
    "Hint: If a list [ ab,cde,erty] is passed on to the python function output should come as [2,3,4] Here 2,3 and 4 are the lengths of the words in the list."
   ]
  },
  {
   "cell_type": "code",
   "execution_count": 123,
   "metadata": {},
   "outputs": [],
   "source": [
    "class WordCounter:\n",
    "    def __init__(self,wordList):\n",
    "        self.wordList=wordList\n",
    "        \n",
    "    def countLetter(self):\n",
    "        return [len(words) for words in self.wordList]"
   ]
  },
  {
   "cell_type": "code",
   "execution_count": 125,
   "metadata": {},
   "outputs": [
    {
     "data": {
      "text/plain": [
       "[6, 5, 5, 3, 2]"
      ]
     },
     "execution_count": 125,
     "metadata": {},
     "output_type": "execute_result"
    }
   ],
   "source": [
    "test=[\"balaji\",\"arthy\",\"vetri\",\"tes\",\"ex\"]\n",
    "val=WordCounter(test)\n",
    "val.countLetter()"
   ]
  },
  {
   "cell_type": "markdown",
   "metadata": {},
   "source": [
    "2.2 Write a Python function which takes a character (i.e. a string of length 1) and returns True if it is a vowel, False otherwise"
   ]
  },
  {
   "cell_type": "code",
   "execution_count": 127,
   "metadata": {},
   "outputs": [],
   "source": [
    "class VowelDiagoniser:\n",
    "    def __init__(self,letter):\n",
    "        self.letter=letter\n",
    "    \n",
    "    def diagoniseVowel(self):\n",
    "         return len(self.letter) == 1 and self.letter in ['a','e','i','o','u']"
   ]
  },
  {
   "cell_type": "code",
   "execution_count": 131,
   "metadata": {},
   "outputs": [
    {
     "data": {
      "text/plain": [
       "False"
      ]
     },
     "execution_count": 131,
     "metadata": {},
     "output_type": "execute_result"
    }
   ],
   "source": [
    "vow = VowelDiagoniser('b')\n",
    "\n",
    "vow.diagoniseVowel()"
   ]
  }
 ],
 "metadata": {
  "kernelspec": {
   "display_name": "Python 3",
   "language": "python",
   "name": "python3"
  },
  "language_info": {
   "codemirror_mode": {
    "name": "ipython",
    "version": 3
   },
   "file_extension": ".py",
   "mimetype": "text/x-python",
   "name": "python",
   "nbconvert_exporter": "python",
   "pygments_lexer": "ipython3",
   "version": "3.8.3"
  }
 },
 "nbformat": 4,
 "nbformat_minor": 4
}
